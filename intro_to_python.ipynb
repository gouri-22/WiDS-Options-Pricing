{
  "nbformat": 4,
  "nbformat_minor": 0,
  "metadata": {
    "colab": {
      "provenance": []
    },
    "kernelspec": {
      "name": "python3",
      "display_name": "Python 3"
    },
    "language_info": {
      "name": "python"
    }
  },
  "cells": [
    {
      "cell_type": "markdown",
      "source": [
        "# Introduction to Python\n",
        "Python was designed to prioritize readability and ease of use, making it an excellent choice for beginners and experienced developers alike.\n",
        "\n",
        "\n",
        "<p>&nbsp;</p>\n",
        "<font size=\"5\">Basic Python Concepts</font>\n",
        "\n",
        "Why Learn Python?\n",
        "Simple and Readable: Easy-to-understand syntax.\n",
        "\n",
        "\n",
        "* Versatile: Used for web development, data analysis, AI, automation, and more.\n",
        "* Cross-Platform: Works on Windows, macOS, Linux, etc.\n",
        "* Strong Community: Vast resources and active forums for learning.\n",
        "\n",
        "Python can be written in text editors or IDEs like VSCode, PyCharm, or Jupyter Notebook.\n",
        "\n",
        "<font size=\"4\">Hello, World!</font>\n",
        "\n",
        "The classic \"Hello, World!\" program is often the first step in learning any programming language. In Python, it demonstrates how simple it is to print text to the screen.\n",
        "\n",
        "**<font size=\"4\">Variables in Python**\n",
        "\n",
        "Variables are containers that store data, which can then be used and manipulated throughout a program. Python is dynamically typed, meaning you don’t need to specify the type explicitly, making your life a lot easier!\n",
        "\n",
        "\n",
        "\n"
      ],
      "metadata": {
        "id": "0Oqg6ks_nWNY"
      }
    },
    {
      "cell_type": "code",
      "source": [
        "name = \"Python\"  # A string\n",
        "version = 3.10   # A float\n",
        "is_friendly = True  # A boolean\n",
        "\n",
        "print(f\"{name} version {version} is easy to learn: {is_friendly}\")"
      ],
      "metadata": {
        "colab": {
          "base_uri": "https://localhost:8080/"
        },
        "id": "_KWtzDU2zyWo",
        "outputId": "8b2d85c3-ca3c-419f-f0a2-dc8f3ecea0bf"
      },
      "execution_count": null,
      "outputs": [
        {
          "output_type": "stream",
          "name": "stdout",
          "text": [
            "Python version 3.1 is easy to learn: True\n"
          ]
        }
      ]
    },
    {
      "cell_type": "code",
      "source": [
        "# Redefining a variable is simple\n",
        "x = 4\n",
        "print(x)\n",
        "\n",
        "x = \"Moon\"\n",
        "print(x)"
      ],
      "metadata": {
        "colab": {
          "base_uri": "https://localhost:8080/"
        },
        "id": "9JC8Uzmn2ikw",
        "outputId": "83a6291a-4a0a-41f7-b5fd-ff0b85394ba2"
      },
      "execution_count": null,
      "outputs": [
        {
          "output_type": "stream",
          "name": "stdout",
          "text": [
            "4\n",
            "Moon\n"
          ]
        }
      ]
    },
    {
      "cell_type": "code",
      "source": [
        "'''\n",
        "Specifying the data type of a variable:\n",
        "In Python, you can specify the data type of a variable when you declare it.\n",
        "For example, you can declare a variable as an integer using the int() function or as a string using str() function.\n",
        "\n",
        "'''\n",
        "x = str(3.56) # '3.56'\n",
        "y = float(2) # 2.0\n",
        "z = int(5) # 5\n",
        "print(x)\n",
        "print(y)\n",
        "print(z)\n",
        "\n",
        "#print (x+y) # raises error as you can't add/concatenate a string with float"
      ],
      "metadata": {
        "colab": {
          "base_uri": "https://localhost:8080/"
        },
        "id": "9IzoahX22bEX",
        "outputId": "b9c2e40e-f26f-4dfb-cad4-0cc551628375"
      },
      "execution_count": null,
      "outputs": [
        {
          "output_type": "stream",
          "name": "stdout",
          "text": [
            "3.56\n",
            "2.0\n",
            "5\n"
          ]
        }
      ]
    },
    {
      "cell_type": "markdown",
      "source": [
        "\n",
        "**<font size=\"4\">Basic Arithmetic**\n",
        "\n",
        "+, -, * and / work in Python just like in math."
      ],
      "metadata": {
        "id": "szjbqAPm207N"
      }
    },
    {
      "cell_type": "code",
      "source": [
        "a, b = 10, 5 # Try out with different values\n",
        "\n",
        "# Addition\n",
        "print(f'a+b = {a+b}')\n",
        "\n",
        "# Subtraction\n",
        "print(f'a-b = {a-b}')\n",
        "\n",
        "# Multiplication\n",
        "print(f'a*b = {a*b}')\n",
        "\n",
        "# Division\n",
        "print(f'a/b = {a/b}')\n",
        "\n",
        "# Modulus\n",
        "print(f'a%b = {a%b}')\n",
        "\n",
        "# Exponentiation\n",
        "print(f'a**b = {a**b}')\n",
        "\n",
        "# Floor Division\n",
        "print(f'a//b = {a//b}')  # This will return the largest whole number\n",
        "\n",
        "# Bitwise AND\n",
        "print(f'a&b = {a&b}')\n",
        "\n",
        "# Bitwise OR\n",
        "print(f'a|b = {a|b}')\n",
        "\n",
        "# Booleans\n",
        "print(f'a>b = {a>b}')  # This will return a boolean value\n",
        "print(bool(0))\n",
        "print(bool(1))"
      ],
      "metadata": {
        "colab": {
          "base_uri": "https://localhost:8080/"
        },
        "id": "8BWyiXeI2yuq",
        "outputId": "12d79b84-7540-4b2e-f95f-4e17e7a52935"
      },
      "execution_count": null,
      "outputs": [
        {
          "output_type": "stream",
          "name": "stdout",
          "text": [
            "a+b = 15\n",
            "a-b = 5\n",
            "a*b = 50\n",
            "a/b = 2.0\n",
            "a%b = 0\n",
            "a**b = 100000\n",
            "a//b = 2\n",
            "a&b = 0\n",
            "a|b = 15\n",
            "a>b = True\n",
            "False\n",
            "True\n"
          ]
        }
      ]
    },
    {
      "cell_type": "markdown",
      "source": [
        "**<font size=\"4\">Data Types in Python**\n",
        "\n",
        "Python supports a variety of data types, including:\n",
        "\n",
        "\n",
        "\n",
        "\n",
        "* Numbers: Integers (int), Floats (float), Complex Numbers (complex) (Pretty much the same as C++)\n",
        "\n",
        "* Strings: Text data\n",
        "\n",
        "*  Booleans: True or False  \n",
        "\n",
        "* Lists: Ordered collections ([1, 2, 3])\n",
        "\n",
        "* Dictionaries: Key-value pairs ({\"name\": \"Python\", \"age\": 32})\n",
        "\n",
        "Here’s an example that mixes it up:\n",
        "\n",
        "\n"
      ],
      "metadata": {
        "id": "ekQxcPURz-Qz"
      }
    },
    {
      "cell_type": "code",
      "source": [
        "age = 25  # Integer\n",
        "pi = 3.14159  # Float\n",
        "greeting = \"Hello, Python!\"  # String\n",
        "colors = [\"red\", \"green\", \"blue\"]  # List\n",
        "person = {\"name\": \"Alice\", \"age\": 30}  # Dictionary\n",
        "\n",
        "print(f\"{greeting} My favorite number is {age} and pi is approximately {pi}.\")"
      ],
      "metadata": {
        "id": "SpkaY2fS3L2o"
      },
      "execution_count": null,
      "outputs": []
    },
    {
      "cell_type": "markdown",
      "source": [
        "**<font size=\"4\">Conditional Statements**\n",
        "\n",
        "Conditional statements allow a program to make decisions based on specific conditions. Python uses if, elif, and else keywords to create logical decision trees.\n",
        "\n",
        "<font size=\"4\">How Conditional Statements Work\n",
        "\n",
        "In Python, conditional statements use the keywords if, elif, and else to execute specific blocks of code based on certain conditions:\n",
        "\n",
        "1. **if** : Tests a condition. If the condition is true, the block under if runs.\n",
        "2. **elif** : Stands for \"else if.\" It tests additional conditions if the if condition is false.\n",
        "3. **else**: Runs when none of the above conditions are true."
      ],
      "metadata": {
        "id": "xAWoqSVj3T-f"
      }
    },
    {
      "cell_type": "code",
      "source": [
        "# Syntax:\n",
        "\n",
        "if condition:\n",
        "    # Code block executed if condition is True\n",
        "elif another_condition:\n",
        "    # Code block executed if another_condition is True\n",
        "else:\n",
        "    # Code block executed if no conditions are True\n"
      ],
      "metadata": {
        "id": "o4C5Ozui3y5k"
      },
      "execution_count": null,
      "outputs": []
    },
    {
      "cell_type": "markdown",
      "source": [
        "<font size=\"4\">An Example: Weather App Logic\n",
        "\n",
        "Let's simulate a weather app to decide what to wear:"
      ],
      "metadata": {
        "id": "YOHjDrBc4jlJ"
      }
    },
    {
      "cell_type": "code",
      "source": [
        "weather = \"rainy\"\n",
        "\n",
        "if weather == \"sunny\":\n",
        "    print(\"Wear sunglasses and apply sunscreen!\")\n",
        "elif weather == \"rainy\":\n",
        "    print(\"Don't forget your umbrella and raincoat!\")\n",
        "elif weather == \"snowy\":\n",
        "    print(\"Bundle up in warm clothes!\")\n",
        "else:\n",
        "    print(\"Just dress comfortably!\")\n"
      ],
      "metadata": {
        "colab": {
          "base_uri": "https://localhost:8080/"
        },
        "id": "JbjQflcp4t-H",
        "outputId": "25e0019d-5cde-4769-f820-8cee62b65d34"
      },
      "execution_count": null,
      "outputs": [
        {
          "output_type": "stream",
          "name": "stdout",
          "text": [
            "Don't forget your umbrella and raincoat!\n"
          ]
        }
      ]
    },
    {
      "cell_type": "code",
      "source": [
        "# Another example\n",
        "\n",
        "x = 20\n",
        "\n",
        "if x>10:\n",
        "    if x<40:   # Nested Loop ('if' statement inside 'if')\n",
        "        print(\"x is between 10 and 40\")\n",
        "    else:\n",
        "        print(\"x is greater than 40\")\n",
        "else:\n",
        "    print(\"x is less than or equal to 10\")"
      ],
      "metadata": {
        "colab": {
          "base_uri": "https://localhost:8080/"
        },
        "id": "KrFIO0w142XG",
        "outputId": "588109db-8908-493b-d830-5b9856d75d43"
      },
      "execution_count": null,
      "outputs": [
        {
          "output_type": "stream",
          "name": "stdout",
          "text": [
            "x is between 10 and 40\n"
          ]
        }
      ]
    },
    {
      "cell_type": "markdown",
      "source": [
        "<font size=\"4\">Conditionals with Comparisons\n",
        "\n",
        "Python provides several comparison operators to build your conditions:\n",
        "\n",
        "* ==: Equal to\n",
        "* !=: Not equal to\n",
        "* <: Less than\n",
        "* \\>: Greater than\n",
        "* <=: Less than or equal to\n",
        "* \\>=: Greater than or equal to\n",
        "\n",
        "Example:\n"
      ],
      "metadata": {
        "id": "rzC-HCZ24-UQ"
      }
    },
    {
      "cell_type": "code",
      "source": [
        "age = 20\n",
        "\n",
        "if age >= 18:\n",
        "    print(\"You're an adult!\")\n",
        "else:\n",
        "    print(\"You're still a minor!\")"
      ],
      "metadata": {
        "colab": {
          "base_uri": "https://localhost:8080/"
        },
        "id": "JWo44Foq-fig",
        "outputId": "02a804ad-0df8-40a8-c9ec-d1f84445a298"
      },
      "execution_count": null,
      "outputs": [
        {
          "output_type": "stream",
          "name": "stdout",
          "text": [
            "You're an adult!\n"
          ]
        }
      ]
    },
    {
      "cell_type": "markdown",
      "source": [
        "<font size=\"4\">Using Logical Operators in Conditions\n",
        "\n",
        "You can combine conditions using logical operators:\n",
        "\n",
        "* and: Both conditions must be true.\n",
        "* or: At least one condition must be true.\n",
        "* not: Negates a condition.\n",
        "Example:"
      ],
      "metadata": {
        "id": "t1eo-Dd5BphJ"
      }
    },
    {
      "cell_type": "code",
      "source": [
        "day = \"Monday\"\n",
        "time = \"morning\"\n",
        "\n",
        "if day == \"Saturday\" or day == \"Sunday\":\n",
        "    print(\"It's the weekend! Relax!\")\n",
        "elif day == \"Monday\" and time == \"morning\":\n",
        "    print(\"Back to work!\")\n",
        "else:\n",
        "    print(\"It's a weekday!\")"
      ],
      "metadata": {
        "colab": {
          "base_uri": "https://localhost:8080/"
        },
        "id": "DcQfXTEVB3tN",
        "outputId": "7f6eed17-4878-4ab9-abd8-939e7553148e"
      },
      "execution_count": null,
      "outputs": [
        {
          "output_type": "stream",
          "name": "stdout",
          "text": [
            "Back to work!\n"
          ]
        }
      ]
    },
    {
      "cell_type": "markdown",
      "source": [
        "<font size=\"4\">Pro Tip: Simplify with One-Line Conditionals\n",
        "\n",
        "For simple scenarios, you can use a one-liner conditional:"
      ],
      "metadata": {
        "id": "g47QxBA6CADP"
      }
    },
    {
      "cell_type": "code",
      "source": [
        "status = \"Pass\" if score >= 60 else \"Fail\"\n",
        "print(status)"
      ],
      "metadata": {
        "id": "-1itXg5_CGRK"
      },
      "execution_count": null,
      "outputs": []
    },
    {
      "cell_type": "markdown",
      "source": [
        "**<font size=\"4\">Loops**\n",
        "\n",
        "Loops are Python’s way of saying, “Why write the same code over and over when I can do it for you?” They let you execute a block of code repeatedly, making tasks like processing lists or performing calculations much easier and faster. Python has two main loop commands:\n",
        "\n",
        "* **For Loops**: Best for iterating over a sequence (like a list, tuple, or string) or a range of numbers.\n",
        "* **While Loops**: The while loop continues to execute as long as a condition remains true.\n"
      ],
      "metadata": {
        "id": "2BYuMN9A3x01"
      }
    },
    {
      "cell_type": "code",
      "source": [
        "# Syntax\n",
        "for item in sequence:\n",
        "    # Code block to execute for each item"
      ],
      "metadata": {
        "colab": {
          "base_uri": "https://localhost:8080/",
          "height": 106
        },
        "id": "KO0ehc17EKBS",
        "outputId": "4eb0b19a-a8ce-4350-ec97-8bca578423bf"
      },
      "execution_count": null,
      "outputs": [
        {
          "output_type": "error",
          "ename": "SyntaxError",
          "evalue": "incomplete input (<ipython-input-13-bbd78f16fec5>, line 2)",
          "traceback": [
            "\u001b[0;36m  File \u001b[0;32m\"<ipython-input-13-bbd78f16fec5>\"\u001b[0;36m, line \u001b[0;32m2\u001b[0m\n\u001b[0;31m    # Code block to execute for each item\u001b[0m\n\u001b[0m                                         ^\u001b[0m\n\u001b[0;31mSyntaxError\u001b[0m\u001b[0;31m:\u001b[0m incomplete input\n"
          ]
        }
      ]
    },
    {
      "cell_type": "code",
      "source": [
        "# For Loop Example: Iterating Over a List\n",
        "fruits = [\"apple\", \"banana\", \"cherry\"]\n",
        "for fruit in fruits:\n",
        "    print(f\"I love {fruit}!\")"
      ],
      "metadata": {
        "colab": {
          "base_uri": "https://localhost:8080/"
        },
        "id": "xuk0CibzDVHh",
        "outputId": "3860975a-71a2-43bb-98a3-6a9dd4a78000"
      },
      "execution_count": null,
      "outputs": [
        {
          "output_type": "stream",
          "name": "stdout",
          "text": [
            "I love apple!\n",
            "I love banana!\n",
            "I love cherry!\n"
          ]
        }
      ]
    },
    {
      "cell_type": "markdown",
      "source": [
        "Here, the loop goes through each element in the fruits list and prints a message.\n"
      ],
      "metadata": {
        "id": "bWdYPB6gEYv4"
      }
    },
    {
      "cell_type": "code",
      "source": [
        "# Example: Using range()\n",
        "\n",
        "# Print numbers 1 to 5\n",
        "for i in range(1, 6):\n",
        "    print(f\"Number: {i}\")"
      ],
      "metadata": {
        "colab": {
          "base_uri": "https://localhost:8080/"
        },
        "id": "auFuu1XUEVxW",
        "outputId": "0a7d8f38-7915-4f7a-ddd6-657a49ec2a81"
      },
      "execution_count": null,
      "outputs": [
        {
          "output_type": "stream",
          "name": "stdout",
          "text": [
            "Number: 1\n",
            "Number: 2\n",
            "Number: 3\n",
            "Number: 4\n",
            "Number: 5\n"
          ]
        }
      ]
    },
    {
      "cell_type": "markdown",
      "source": [
        "Notice that range(1, 6) includes the starting number (1) but leaves out the end number (6).\n",
        "\n"
      ],
      "metadata": {
        "id": "WKu1ItaJEuXT"
      }
    },
    {
      "cell_type": "code",
      "source": [
        "# Example: Using for Loop with Strings\n",
        "word = \"Python\"\n",
        "\n",
        "for char in word:\n",
        "    print(char)"
      ],
      "metadata": {
        "colab": {
          "base_uri": "https://localhost:8080/"
        },
        "id": "hF1dUhV-Dkgy",
        "outputId": "3a035b7e-b6e8-4fc9-aab7-5c2cb2895b2d"
      },
      "execution_count": null,
      "outputs": [
        {
          "output_type": "stream",
          "name": "stdout",
          "text": [
            "P\n",
            "y\n",
            "t\n",
            "h\n",
            "o\n",
            "n\n"
          ]
        }
      ]
    },
    {
      "cell_type": "markdown",
      "source": [
        "Strings are sequences too, so you can loop through each character."
      ],
      "metadata": {
        "id": "90xSosmXFSQa"
      }
    },
    {
      "cell_type": "markdown",
      "source": [
        "**While Loop**"
      ],
      "metadata": {
        "id": "9hwHB1ejFpVx"
      }
    },
    {
      "cell_type": "code",
      "source": [
        "# Syntax\n",
        "while condition:\n",
        "    # Code block to execute"
      ],
      "metadata": {
        "id": "WkLgPSwSFcyv"
      },
      "execution_count": null,
      "outputs": []
    },
    {
      "cell_type": "code",
      "source": [
        "# Example: Countdown\n",
        "count = 5\n",
        "\n",
        "while count > 0:\n",
        "    print(f\"Countdown: {count}\")\n",
        "    count -= 1"
      ],
      "metadata": {
        "colab": {
          "base_uri": "https://localhost:8080/"
        },
        "id": "3aLHl2qdFlv_",
        "outputId": "9d602ef6-edcb-4e62-df04-fa22843c88c7"
      },
      "execution_count": null,
      "outputs": [
        {
          "output_type": "stream",
          "name": "stdout",
          "text": [
            "Countdown: 5\n",
            "Countdown: 4\n",
            "Countdown: 3\n",
            "Countdown: 2\n",
            "Countdown: 1\n"
          ]
        }
      ]
    },
    {
      "cell_type": "markdown",
      "source": [
        "Here, the loop runs until count > 0 becomes false."
      ],
      "metadata": {
        "id": "MGr5Y0cpGDzI"
      }
    },
    {
      "cell_type": "markdown",
      "source": [
        "**<font size=\"4\">Functions**\n",
        "\n",
        "Functions are blocks of reusable code that perform specific tasks, making your programs cleaner, more organized, and easier to maintain. They are defined using the def keyword, followed by a function name, a signature within parentheses (), and a colon (:). The function body is indented beneath the definition."
      ],
      "metadata": {
        "id": "CkclbIieCn67"
      }
    },
    {
      "cell_type": "code",
      "source": [
        "# Syntax\n",
        "\n",
        "def function_name(parameters):\n",
        "    \"\"\"Optional docstring: Explains what the function does.\"\"\"\n",
        "    # Code block (function body)\n",
        "    return result  # Optional"
      ],
      "metadata": {
        "id": "ylE1LwX4Gz0k"
      },
      "execution_count": null,
      "outputs": []
    },
    {
      "cell_type": "markdown",
      "source": [
        "Let’s create a function that greets a user.\n",
        "\n",
        "python\n",
        "Copy code"
      ],
      "metadata": {
        "id": "bIAHhi1vG9J5"
      }
    },
    {
      "cell_type": "code",
      "source": [
        "def greet(name):\n",
        "    \"\"\"Greets the user by their name.\"\"\"\n",
        "    return f\"Hello, {name}!\"\n",
        "\n",
        "# Calling the function\n",
        "print(greet(\"Kurt\"))\n",
        "print(greet(\"Justin\"))"
      ],
      "metadata": {
        "colab": {
          "base_uri": "https://localhost:8080/"
        },
        "id": "ckb35mnxG621",
        "outputId": "c4dc4fc5-1ff9-4db0-c5cb-430e771319d1"
      },
      "execution_count": null,
      "outputs": [
        {
          "output_type": "stream",
          "name": "stdout",
          "text": [
            "Hello, Kurt!\n",
            "Hello, Justin!\n"
          ]
        }
      ]
    },
    {
      "cell_type": "markdown",
      "source": [
        "See how the function makes the code reusable? You don’t have to write the same greeting logic twice."
      ],
      "metadata": {
        "id": "VgemwvfqHMwl"
      }
    },
    {
      "cell_type": "markdown",
      "source": [
        "<font size=\"4\">Parameters and Arguments\n",
        "\n",
        "Functions can take parameters to make them flexible. Think of parameters as placeholders for the actual values you’ll pass when calling the function.\n",
        "\n",
        "**Example**: Adding Numbers"
      ],
      "metadata": {
        "id": "437FfSRcXCSX"
      }
    },
    {
      "cell_type": "code",
      "source": [
        "def add_numbers(a, b):\n",
        "    \"\"\"Returns the sum of two numbers.\"\"\"\n",
        "    return a + b\n",
        "\n",
        "print(add_numbers(3, 5))\n",
        "print(add_numbers(10, 20))"
      ],
      "metadata": {
        "colab": {
          "base_uri": "https://localhost:8080/"
        },
        "id": "tiGLw2CTXBeU",
        "outputId": "645f5179-b60e-4ae4-893e-a67a7584e7c9"
      },
      "execution_count": null,
      "outputs": [
        {
          "output_type": "stream",
          "name": "stdout",
          "text": [
            "8\n",
            "30\n"
          ]
        }
      ]
    },
    {
      "cell_type": "markdown",
      "source": [
        "<font size=\"4\">Docstrings\n",
        "\n",
        "Optional but recommended, docstrings are special comments that describe what a function does. They're written in triple quotes (\"\"\") and are super helpful for documenting your code."
      ],
      "metadata": {
        "id": "BSjS1braXcPM"
      }
    },
    {
      "cell_type": "code",
      "source": [
        "# Example\n",
        "def multiply(a, b):\n",
        "    \"\"\"Multiplies two numbers and returns the result.\"\"\"\n",
        "    return a * b\n",
        "\n",
        "# Access the docstring\n",
        "print(multiply.__doc__)"
      ],
      "metadata": {
        "id": "ddUe0d5NXw1u"
      },
      "execution_count": null,
      "outputs": []
    },
    {
      "cell_type": "markdown",
      "source": [
        "<font size=\"4\">Modules\n",
        "\n",
        "A module is a file ending in .py that contains the code you want to import into your program. bold text\n",
        "\n",
        "To create a module you make a python file containing the functions or variables that you need.\n",
        "\n",
        "For example we can make a module ( we can name it pizza.py) with the following code to make a pizza."
      ],
      "metadata": {
        "id": "OMLH8fBHby7s"
      }
    },
    {
      "cell_type": "code",
      "source": [
        "def make_pizza(size, *toppings):\n",
        "  \"\"\"Summarize the pizza we are about to make.\"\"\"\n",
        "  print(\"\\nMaking a \" + str(size) + \"-inch pizza with the following toppings:\")\n",
        "  for topping in toppings:\n",
        "    print(\"- \" + topping)"
      ],
      "metadata": {
        "id": "ZPfgg3oPblo_"
      },
      "execution_count": 1,
      "outputs": []
    },
    {
      "cell_type": "markdown",
      "source": [
        "We can now import the module in our program and access the functions. Given that the module must be in the same folder as our program."
      ],
      "metadata": {
        "id": "0kr7EyOAb3eD"
      }
    },
    {
      "cell_type": "code",
      "source": [
        "import pizza\n",
        "\n",
        "pizza.make_pizza(16, 'pepperoni')\n",
        "pizza.make_pizza(12, 'mushrooms', 'green peppers', 'extra cheese')"
      ],
      "metadata": {
        "id": "u-mnQTeVb8YM"
      },
      "execution_count": 2,
      "outputs": []
    },
    {
      "cell_type": "markdown",
      "source": [
        "To call a function from an imported module, you enter the name of the module you imported, pizza, followed by the name of the function, make_pizza(), separated by a dot.\n",
        "\n",
        "We can also import specific functions using the following syntax:"
      ],
      "metadata": {
        "id": "2jGqxP81cEeC"
      }
    },
    {
      "cell_type": "code",
      "source": [
        "from module_name import function_name"
      ],
      "metadata": {
        "id": "jwuH-igvb_LU"
      },
      "execution_count": null,
      "outputs": []
    },
    {
      "cell_type": "markdown",
      "source": [
        "Like this:"
      ],
      "metadata": {
        "id": "4FH7cIcRcXA2"
      }
    },
    {
      "cell_type": "code",
      "source": [
        "from pizza import make_pizza\n",
        "\n",
        "make_pizza(16, 'pepperoni')\n",
        "make_pizza(12, 'mushrooms', 'green peppers', 'extra cheese')"
      ],
      "metadata": {
        "id": "zgIoFM2VcbOU"
      },
      "execution_count": null,
      "outputs": []
    },
    {
      "cell_type": "markdown",
      "source": [
        "The as keyword is used to give alias to modules or functions while importing them in order to shorten their names and make it easier to call them."
      ],
      "metadata": {
        "id": "6JVVL1DBcemb"
      }
    },
    {
      "cell_type": "code",
      "source": [
        "from pizza import make_pizza as mp # giving alias to a function\n",
        "\n",
        "mp(16, 'pepperoni')\n",
        "\n",
        "import pizza as p # giving alias to the module\n",
        "\n",
        "p.make_pizza(16, 'pepperoni')"
      ],
      "metadata": {
        "id": "8W9wyuK_cfxt"
      },
      "execution_count": null,
      "outputs": []
    },
    {
      "cell_type": "markdown",
      "source": [
        "#Classes and Objects\n",
        "\n",
        "Class is a collection of many different functions and attributes (variables) that can be accessed by an object of that class. These methods inside a class are defined almost in the same way as normal Python functions are defined.\n",
        "\n",
        "# The following example illustrates how to create a class and declare various attributes and methods in it."
      ],
      "metadata": {
        "id": "LDjklKbLcojg"
      }
    },
    {
      "cell_type": "code",
      "source": [
        "class Human:\n",
        "\n",
        "    # A class attribute. It is shared by all instances of this class\n",
        "    species = \"H. sapien\"\n",
        "\n",
        "    #__init__ is the basic initializer(called the constructor), this is called when this class is instantiated.\n",
        "    # Note that the double leading and trailing underscores denote objects\n",
        "    # or attributes that are used by Python but that live in user-controlled\n",
        "    # namespaces. Methods(or objects or attributes) like: __init__, __str__,\n",
        "    # __repr__ etc. are called special methods (or sometimes called dunder methods)\n",
        "    # You should not invent such names on your own.\n",
        "    def __init__(self, name, age):\n",
        "        # Assign the argument to the instance's name attribute\n",
        "        self.name = name\n",
        "\n",
        "        # Initialize property\n",
        "        self.age = age\n",
        "\n",
        "    #The self parameter is required in the method definition, and it must come before the other parameters.\n",
        "    #Every method call associated with a class automatically passes self, which is a reference to the instance itself;\n",
        "    #it gives the individual instance access to the attributes and methods in the class.\n",
        "\n",
        "    # We now declare some methods which will be associated with the class.\n",
        "    #Using these methods we can access various attributes of the class, use them, change them etc.\n",
        "\n",
        "    def say(self, msg):\n",
        "        print(self.name + \" : \" + msg)\n",
        "\n",
        "    def age_setter(self, age):\n",
        "        self.age = age\n",
        "\n",
        "    def age_getter(self):\n",
        "        return self.age\n",
        "\n",
        "    def print_species(self):\n",
        "        print(self.name + \" : \" + self.species)\n",
        "\n",
        "    # note we always have to put self as the first parameter of the method"
      ],
      "metadata": {
        "id": "uoecHREic6Du"
      },
      "execution_count": 3,
      "outputs": []
    },
    {
      "cell_type": "markdown",
      "source": [
        "Now we can create instances of this class(objects) and then use methods and attributes associated with it."
      ],
      "metadata": {
        "id": "fS6H74v6c-5H"
      }
    },
    {
      "cell_type": "code",
      "source": [
        "p1 = Human(name= \"Kartik\", age = 18)\n",
        "p1.say(\"Hello!!!\")\n",
        "p1.say(\"Kaise ho?\")\n",
        "p2 = Human(\"Shikhar\", 18)\n",
        "p2.say(\"Machaa raha hun\")"
      ],
      "metadata": {
        "colab": {
          "base_uri": "https://localhost:8080/"
        },
        "id": "Tfx8x4jAdA9T",
        "outputId": "2306aa61-a9c3-4814-bd2f-0a9dad367423"
      },
      "execution_count": 4,
      "outputs": [
        {
          "output_type": "stream",
          "name": "stdout",
          "text": [
            "Kartik : Hello!!!\n",
            "Kartik : Kaise ho?\n",
            "Shikhar : Machaa raha hun\n"
          ]
        }
      ]
    },
    {
      "cell_type": "markdown",
      "source": [
        "Using the age setter method we can even change variables associated with that object."
      ],
      "metadata": {
        "id": "t1dxkxhydHOe"
      }
    },
    {
      "cell_type": "code",
      "source": [
        "p1.age_setter(20)\n",
        "print(p1.age_getter())\n",
        "print(p2.age_getter())"
      ],
      "metadata": {
        "colab": {
          "base_uri": "https://localhost:8080/"
        },
        "id": "D_RSA-1HdKR8",
        "outputId": "2351b04d-3aab-4d2b-ed1e-0e661453f32e"
      },
      "execution_count": 5,
      "outputs": [
        {
          "output_type": "stream",
          "name": "stdout",
          "text": [
            "20\n",
            "18\n"
          ]
        }
      ]
    },
    {
      "cell_type": "markdown",
      "source": [
        "We can also change the shared attribute so that it changes for all the instances"
      ],
      "metadata": {
        "id": "I5xl_KuedLkY"
      }
    },
    {
      "cell_type": "code",
      "source": [
        "p1.print_species()\n",
        "Human.species = \"H. neanderthalensis\"\n",
        "p1.print_species()\n",
        "p2.print_species()"
      ],
      "metadata": {
        "colab": {
          "base_uri": "https://localhost:8080/"
        },
        "id": "pu84U2vpdOq-",
        "outputId": "aa330f44-5c74-42f6-e415-ce641bb39177"
      },
      "execution_count": 6,
      "outputs": [
        {
          "output_type": "stream",
          "name": "stdout",
          "text": [
            "Kartik : H. sapien\n",
            "Kartik : H. neanderthalensis\n",
            "Shikhar : H. neanderthalensis\n"
          ]
        }
      ]
    },
    {
      "cell_type": "markdown",
      "source": [
        "#Some Standard Libraries of Python\n",
        "There are a lot of useful and interesting libraries available in python. Using such libraries often helps in reducing the effort and saves time in a number of places. It is important to be familiar with certain Standard libraries. Here your main focus should be on developing the skill of looking through the documentation of the library and learning how to use the methods and attributes it offers:\n",
        "\n",
        "Note: Don’t forget to first import the module using statements like “import math”!!!!\n",
        "\n",
        "* The math Library: Python has a built-in module that you can use for mathematical tasks.The math module has a set of methods and constants. Some of these methods often come in handy. You go to [this](https://docs.python.org/3/library/math.html) link to learn about the methods and constants in the math module. It's beneficial to know about some of the basic trigonometric, exponential, logarithmic functions and some numeric ones like factorial, fabs, floor, ceil etc. They are used quite frequently.\n",
        "* The random library: This module implements pseudo-random number generators for various distributions. Some of the functions that you should be familiar with are seed(), randrange(), randint(), choice(), choices(), sample(), random(), uniform(). You head over to [this](https://docs.python.org/3/library/random.html) link to learn about this library.\n",
        "* The time library: This module provides various time-related functions. You should know about the terms epoch, seconds since epoch, local time, UTC, struct_time and also about functions used in conversions from struct_time to seconds since epoch etc. You can head over to [this](https://realpython.com/python-time-module/) link and learn about these.\n",
        "* The datetime library: The datetime module supplies classes for manipulating dates and times.You should have a basic idea about creating a date and datetime objects and know about some of the methods. You can head over to [this](https://www.geeksforgeeks.org/python-datetime-module-with-examples/) link to learn about them."
      ],
      "metadata": {
        "id": "Pc-GBYh5C68_"
      }
    },
    {
      "cell_type": "markdown",
      "source": [
        "By the end of this week you should be familiar with basics of python. You should have a good enough idea about data types, loops, operators, iterators, functions, modules and packages, classes in python. Do go through the the assignment after finishing the reading material. It will give you a chance to apply these concepts and practice your skills. Next week we will learn to use python in the field of data analysis."
      ],
      "metadata": {
        "id": "fFC1B1RtePTG"
      }
    }
  ]
}